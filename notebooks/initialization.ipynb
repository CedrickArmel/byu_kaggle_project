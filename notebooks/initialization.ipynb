{
 "cells": [
  {
   "cell_type": "code",
   "execution_count": null,
   "id": "33ace0ae",
   "metadata": {},
   "outputs": [],
   "source": [
    "import random\n",
    "import math\n",
    "\n",
    "import numpy as np\n",
    "import torch\n",
    "import torch.nn as nn\n",
    "import torch.nn.functional as F\n",
    "\n",
    "\n",
    "from omegaconf import OmegaConf\n",
    "from torch.distributions import Beta\n",
    "from torch.nn.init import (\n",
    "    _calculate_fan_in_and_fan_out,\n",
    "    calculate_gain,\n",
    "    xavier_normal_,\n",
    "    xavier_uniform_,\n",
    "    kaiming_normal_,\n",
    "    kaiming_uniform_,\n",
    ")\n",
    "from torchinfo import summary\n",
    "from app.models.lightning import Net\n",
    "from app.models import LNet\n",
    "from app.utils import initialize_weights\n",
    "from app.losses import FocalLoss, DiceLoss"
   ]
  },
  {
   "cell_type": "code",
   "execution_count": null,
   "id": "3bd1eb5e",
   "metadata": {},
   "outputs": [],
   "source": [
    "OmegaConf.register_new_resolver(\"eval\", resolver=eval, replace=True)"
   ]
  },
  {
   "cell_type": "code",
   "execution_count": null,
   "id": "1e8b4410",
   "metadata": {},
   "outputs": [],
   "source": [
    "cfg = OmegaConf.load(\"../src/app/config/config.yaml\")"
   ]
  },
  {
   "cell_type": "code",
   "execution_count": null,
   "id": "c73ad1cb",
   "metadata": {},
   "outputs": [],
   "source": [
    "net = Net(cfg)"
   ]
  },
  {
   "cell_type": "code",
   "execution_count": null,
   "id": "06cfc0da",
   "metadata": {},
   "outputs": [],
   "source": [
    "summary(net.backbone.encoder)"
   ]
  },
  {
   "cell_type": "code",
   "execution_count": null,
   "id": "70f2200f",
   "metadata": {},
   "outputs": [],
   "source": [
    "for name, param in net.backbone.decoder.named_parameters():\n",
    "    if param.requires_grad == True:\n",
    "        if \"weight\" in name and \"adn\" not in name:\n",
    "            print(\n",
    "                name, param.shape[0], param.shape[1], torch.std(param.view(-1).detach())\n",
    "            )"
   ]
  },
  {
   "cell_type": "code",
   "execution_count": null,
   "id": "bf4229ff",
   "metadata": {},
   "outputs": [],
   "source": [
    "net.backbone.decoder = net.backbone.decoder.apply(lambda x: initialize_weights(cfg, x))"
   ]
  },
  {
   "cell_type": "code",
   "execution_count": null,
   "id": "69430c47",
   "metadata": {},
   "outputs": [],
   "source": [
    "for name, param in net.backbone.decoder.named_parameters():\n",
    "    if param.requires_grad == True:\n",
    "        if \"weight\" in name and \"adn\" not in name:\n",
    "            print(\n",
    "                name, param.shape[0], param.shape[1], torch.std(param.view(-1).detach())\n",
    "            )"
   ]
  }
 ],
 "metadata": {
  "kernelspec": {
   "display_name": "byu_project",
   "language": "python",
   "name": "python3"
  },
  "language_info": {
   "codemirror_mode": {
    "name": "ipython",
    "version": 3
   },
   "file_extension": ".py",
   "mimetype": "text/x-python",
   "name": "python",
   "nbconvert_exporter": "python",
   "pygments_lexer": "ipython3",
   "version": "3.10.16"
  }
 },
 "nbformat": 4,
 "nbformat_minor": 5
}

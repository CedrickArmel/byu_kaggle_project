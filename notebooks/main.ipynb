{
 "cells": [
  {
   "cell_type": "code",
   "execution_count": 1,
   "id": "6dc6ec02",
   "metadata": {},
   "outputs": [],
   "source": [
    "import datetime\n",
    "import os\n",
    "from glob import glob\n",
    "\n",
    "import numpy as np\n",
    "import torch\n",
    "import torch.nn.functional as F\n",
    "\n",
    "from omegaconf import OmegaConf\n",
    "from torchinfo import summary\n",
    "from app.metrics import BYUFbeta\n",
    "from app.metrics.metrics import get_topk_by_id, thresholder, filter_negatives\n",
    "from app.models.lightning import Net\n",
    "from app.models import LNet\n",
    "from app.utils import get_data, get_data_loader\n",
    "from app.processings.post_processing import get_output_size, reconstruct, simple_nms"
   ]
  },
  {
   "cell_type": "code",
   "execution_count": 2,
   "id": "fa5e15b6",
   "metadata": {},
   "outputs": [],
   "source": [
    "# state =  torch.load(\"/kaggle/working/resnet10/version_17/checkpoints/last.ckpt\", map_location=\"cpu\")"
   ]
  },
  {
   "cell_type": "code",
   "execution_count": 3,
   "id": "490d5ac6",
   "metadata": {},
   "outputs": [],
   "source": [
    "from numpy.typing import NDArray\n",
    "from scipy.spatial import KDTree\n",
    "from torchmetrics.utilities import dim_zero_cat"
   ]
  },
  {
   "cell_type": "code",
   "execution_count": 4,
   "id": "c0f7c46c",
   "metadata": {},
   "outputs": [],
   "source": [
    "OmegaConf.register_new_resolver(\"eval\", resolver=eval, replace=True)"
   ]
  },
  {
   "cell_type": "markdown",
   "id": "7d27ea36",
   "metadata": {},
   "source": [
    "os.environ[\"ISTPUVM\"] = \"1\"\n",
    "os.environ[\"PJRT_DEVICE\"] = \"CPU\"\n",
    "os.environ[\"PT_XLA_DEBUG_LEVEL\"] = \"1\"\n",
    "os.environ[\"TF_CPP_MIN_LOG_LEVEL\"] = \"2\"\n",
    "os.environ[\"TPU_ACCELERATOR_TYPE\"] = \"v3-8\"\n",
    "os.environ[\"TPU_CHIPS_PER_HOST_BOUNDS\"] = \"2,2,1\"\n",
    "os.environ[\"TPU_HOST_BOUNDS\"] = \"1,1,1\"\n",
    "os.environ[\"TPU_RUNTIME_METRICS_PORTS\"] = \"8431,8432,8433,8434\"\n",
    "os.environ[\"TPU_SKIP_MDS_QUERY\"] = \"1\"\n",
    "os.environ[\"TPU_WORKER_HOSTNAMES\"] = \"localhost\"\n",
    "os.environ[\"TPU_WORKER_ID\"] = \"0\"\n",
    "os.environ[\"XLA_TENSOR_ALLOCATOR_MAXSIZE\"] = \"100000000\""
   ]
  },
  {
   "cell_type": "code",
   "execution_count": 5,
   "id": "6db72768",
   "metadata": {},
   "outputs": [],
   "source": [
    "cfg = OmegaConf.load(\"../src/app/config/config.yaml\")"
   ]
  },
  {
   "cell_type": "code",
   "execution_count": 11,
   "id": "402ea378",
   "metadata": {},
   "outputs": [],
   "source": [
    "cfg.val_persistent_workers = True"
   ]
  },
  {
   "cell_type": "code",
   "execution_count": 12,
   "id": "ce0a76c6",
   "metadata": {},
   "outputs": [],
   "source": [
    "train_df, val_df = get_data(cfg, mode=\"fit\")\n",
    "train_loader = get_data_loader(cfg, train_df, mode=\"train\")\n",
    "val_loader = get_data_loader(cfg, val_df, mode=\"validation\")"
   ]
  },
  {
   "cell_type": "code",
   "execution_count": 7,
   "id": "040411de",
   "metadata": {},
   "outputs": [],
   "source": [
    "targets = torch.from_numpy(val_df[[\"z\", \"y\", \"x\", \"id\", \"vxs\"]].values)"
   ]
  },
  {
   "cell_type": "code",
   "execution_count": 9,
   "id": "fb129882",
   "metadata": {},
   "outputs": [],
   "source": [
    "test_outputs = torch.load(\"/kaggle/working/logits422.pt\", weights_only=False)"
   ]
  },
  {
   "cell_type": "code",
   "execution_count": 48,
   "id": "17a7b6ad",
   "metadata": {},
   "outputs": [],
   "source": [
    "tr_it = iter(val_loader)"
   ]
  },
  {
   "cell_type": "code",
   "execution_count": 80,
   "id": "0f9cc4b6",
   "metadata": {},
   "outputs": [],
   "source": [
    "for batch in range(len(val_loader)):\n",
    "    batch = next(tr_it)\n",
    "    if batch[\"id\"][0] != 38:\n",
    "        continue\n",
    "    break"
   ]
  },
  {
   "cell_type": "code",
   "execution_count": 82,
   "id": "24f2b731",
   "metadata": {},
   "outputs": [],
   "source": [
    "batch[\"logits\"] = torch.from_numpy(test_outputs)"
   ]
  },
  {
   "cell_type": "code",
   "execution_count": 83,
   "id": "bd9e8ec9",
   "metadata": {},
   "outputs": [],
   "source": [
    "batch = {k:v.to(\"cuda:0\") if isinstance(v, torch.Tensor) else v for k, v in batch.items()}"
   ]
  },
  {
   "cell_type": "code",
   "execution_count": 95,
   "id": "e47cf8a7",
   "metadata": {},
   "outputs": [],
   "source": [
    "net_output = batch"
   ]
  },
  {
   "cell_type": "code",
   "execution_count": 96,
   "id": "83a5eff2",
   "metadata": {},
   "outputs": [],
   "source": [
    "device = net_output[\"logits\"].device\n",
    "new_size = torch.tensor(cfg.new_size, device=net_output[\"logits\"].device)\n",
    "roi_size = torch.tensor(cfg.roi_size, device=net_output[\"logits\"].device)"
   ]
  },
  {
   "cell_type": "code",
   "execution_count": 97,
   "id": "193b6ba3",
   "metadata": {},
   "outputs": [],
   "source": [
    "img: \"torch.Tensor\" = net_output[\"logits\"].detach()"
   ]
  },
  {
   "cell_type": "code",
   "execution_count": 101,
   "id": "ce64b33e",
   "metadata": {},
   "outputs": [],
   "source": [
    "sm = img.softmax(1)"
   ]
  },
  {
   "cell_type": "code",
   "execution_count": 107,
   "id": "e2a61280",
   "metadata": {},
   "outputs": [
    {
     "data": {
      "text/plain": [
       "tensor(0., device='cuda:0')"
      ]
     },
     "execution_count": 107,
     "metadata": {},
     "output_type": "execute_result"
    }
   ],
   "source": [
    "sm[:, 1, :].min()"
   ]
  },
  {
   "cell_type": "code",
   "execution_count": 87,
   "id": "5868e220",
   "metadata": {},
   "outputs": [],
   "source": [
    "locations: \"torch.Tensor\" = net_output[\"location\"]\n",
    "scales: \"torch.Tensor\" = net_output[\"scale\"]\n",
    "tomo_ids: \"torch.Tensor\" = torch.tensor(net_output[\"id\"], device=device)"
   ]
  },
  {
   "cell_type": "code",
   "execution_count": 88,
   "id": "4f97c871",
   "metadata": {},
   "outputs": [],
   "source": [
    "img = F.interpolate(\n",
    "    img,\n",
    "    size=roi_size.tolist(),\n",
    "    mode=\"trilinear\",\n",
    "    align_corners=False,\n",
    ")"
   ]
  },
  {
   "cell_type": "code",
   "execution_count": 89,
   "id": "0b29e2d7",
   "metadata": {},
   "outputs": [],
   "source": [
    "out_size = get_output_size(img, locations, roi_size, device)\n",
    "rec_img = reconstruct(\n",
    "    img=img,\n",
    "    locations=locations,\n",
    "    out_size=out_size,\n",
    "    crop_size=roi_size,\n",
    "    device=device,\n",
    ")"
   ]
  },
  {
   "cell_type": "code",
   "execution_count": 90,
   "id": "161ddf10",
   "metadata": {},
   "outputs": [],
   "source": [
    "s = torch.tensor(rec_img.shape[-3:], device=device)\n",
    "delta = (s - new_size) // 2  # delta to remove padding added during transforms\n",
    "dz, dy, dx = delta.tolist()\n",
    "nz, ny, nx = new_size.tolist()\n",
    "\n",
    "rec_img = rec_img[:, :, dz : nz + dz, dy : ny + dy, dx : nx + dx]\n",
    "\n",
    "rec_img = F.interpolate(\n",
    "    rec_img,\n",
    "    size=[d // 2 for d in new_size.tolist()],\n",
    "    mode=\"trilinear\",\n",
    "    align_corners=False,\n",
    ")"
   ]
  },
  {
   "cell_type": "code",
   "execution_count": 91,
   "id": "fab87893",
   "metadata": {},
   "outputs": [],
   "source": [
    "preds: \"torch.Tensor\" = rec_img.softmax(1)"
   ]
  },
  {
   "cell_type": "code",
   "execution_count": 92,
   "id": "d5a213ed",
   "metadata": {},
   "outputs": [
    {
     "data": {
      "text/plain": [
       "tensor(1., device='cuda:0')"
      ]
     },
     "execution_count": 92,
     "metadata": {},
     "output_type": "execute_result"
    }
   ],
   "source": [
    "preds[:, 0, :].max()"
   ]
  },
  {
   "cell_type": "code",
   "execution_count": 93,
   "id": "05a6fe57",
   "metadata": {},
   "outputs": [
    {
     "data": {
      "text/plain": [
       "tensor(1.3958e-19, device='cuda:0')"
      ]
     },
     "execution_count": 93,
     "metadata": {},
     "output_type": "execute_result"
    }
   ],
   "source": [
    "preds[:, 1, :].max()"
   ]
  },
  {
   "cell_type": "code",
   "execution_count": 94,
   "id": "d52d3cb0",
   "metadata": {},
   "outputs": [
    {
     "data": {
      "text/html": [
       "<div>\n",
       "<style scoped>\n",
       "    .dataframe tbody tr th:only-of-type {\n",
       "        vertical-align: middle;\n",
       "    }\n",
       "\n",
       "    .dataframe tbody tr th {\n",
       "        vertical-align: top;\n",
       "    }\n",
       "\n",
       "    .dataframe thead th {\n",
       "        text-align: right;\n",
       "    }\n",
       "</style>\n",
       "<table border=\"1\" class=\"dataframe\">\n",
       "  <thead>\n",
       "    <tr style=\"text-align: right;\">\n",
       "      <th></th>\n",
       "      <th>row_id</th>\n",
       "      <th>tomo_id</th>\n",
       "      <th>z</th>\n",
       "      <th>y</th>\n",
       "      <th>x</th>\n",
       "      <th>axis0</th>\n",
       "      <th>axis1</th>\n",
       "      <th>axis2</th>\n",
       "      <th>vxs</th>\n",
       "      <th>n_motors</th>\n",
       "      <th>id</th>\n",
       "      <th>fold</th>\n",
       "    </tr>\n",
       "  </thead>\n",
       "  <tbody>\n",
       "    <tr>\n",
       "      <th>45</th>\n",
       "      <td>45</td>\n",
       "      <td>tomo_0fe63f</td>\n",
       "      <td>197.0</td>\n",
       "      <td>362.0</td>\n",
       "      <td>265.0</td>\n",
       "      <td>300</td>\n",
       "      <td>960</td>\n",
       "      <td>928</td>\n",
       "      <td>13.1</td>\n",
       "      <td>1</td>\n",
       "      <td>38</td>\n",
       "      <td>0</td>\n",
       "    </tr>\n",
       "  </tbody>\n",
       "</table>\n",
       "</div>"
      ],
      "text/plain": [
       "    row_id      tomo_id      z      y      x  axis0  axis1  axis2   vxs  \\\n",
       "45      45  tomo_0fe63f  197.0  362.0  265.0    300    960    928  13.1   \n",
       "\n",
       "    n_motors  id  fold  \n",
       "45         1  38     0  "
      ]
     },
     "execution_count": 94,
     "metadata": {},
     "output_type": "execute_result"
    }
   ],
   "source": [
    "val_df[val_df[\"id\"] == 38]"
   ]
  },
  {
   "cell_type": "code",
   "execution_count": 79,
   "id": "51daa224",
   "metadata": {},
   "outputs": [
    {
     "data": {
      "text/html": [
       "<div>\n",
       "<style scoped>\n",
       "    .dataframe tbody tr th:only-of-type {\n",
       "        vertical-align: middle;\n",
       "    }\n",
       "\n",
       "    .dataframe tbody tr th {\n",
       "        vertical-align: top;\n",
       "    }\n",
       "\n",
       "    .dataframe thead th {\n",
       "        text-align: right;\n",
       "    }\n",
       "</style>\n",
       "<table border=\"1\" class=\"dataframe\">\n",
       "  <thead>\n",
       "    <tr style=\"text-align: right;\">\n",
       "      <th></th>\n",
       "      <th>row_id</th>\n",
       "      <th>tomo_id</th>\n",
       "      <th>z</th>\n",
       "      <th>y</th>\n",
       "      <th>x</th>\n",
       "      <th>axis0</th>\n",
       "      <th>axis1</th>\n",
       "      <th>axis2</th>\n",
       "      <th>vxs</th>\n",
       "      <th>n_motors</th>\n",
       "      <th>id</th>\n",
       "      <th>fold</th>\n",
       "    </tr>\n",
       "  </thead>\n",
       "  <tbody>\n",
       "    <tr>\n",
       "      <th>127</th>\n",
       "      <td>127</td>\n",
       "      <td>tomo_2b3cdf</td>\n",
       "      <td>134.0</td>\n",
       "      <td>173.0</td>\n",
       "      <td>662.0</td>\n",
       "      <td>300</td>\n",
       "      <td>960</td>\n",
       "      <td>928</td>\n",
       "      <td>13.1</td>\n",
       "      <td>2</td>\n",
       "      <td>107</td>\n",
       "      <td>0</td>\n",
       "    </tr>\n",
       "    <tr>\n",
       "      <th>232</th>\n",
       "      <td>232</td>\n",
       "      <td>tomo_507b7a</td>\n",
       "      <td>451.0</td>\n",
       "      <td>561.0</td>\n",
       "      <td>366.0</td>\n",
       "      <td>500</td>\n",
       "      <td>928</td>\n",
       "      <td>960</td>\n",
       "      <td>13.1</td>\n",
       "      <td>2</td>\n",
       "      <td>200</td>\n",
       "      <td>0</td>\n",
       "    </tr>\n",
       "    <tr>\n",
       "      <th>233</th>\n",
       "      <td>233</td>\n",
       "      <td>tomo_507b7a</td>\n",
       "      <td>427.0</td>\n",
       "      <td>384.0</td>\n",
       "      <td>353.0</td>\n",
       "      <td>500</td>\n",
       "      <td>928</td>\n",
       "      <td>960</td>\n",
       "      <td>13.1</td>\n",
       "      <td>2</td>\n",
       "      <td>200</td>\n",
       "      <td>0</td>\n",
       "    </tr>\n",
       "    <tr>\n",
       "      <th>478</th>\n",
       "      <td>478</td>\n",
       "      <td>tomo_a84050</td>\n",
       "      <td>80.0</td>\n",
       "      <td>771.0</td>\n",
       "      <td>150.0</td>\n",
       "      <td>300</td>\n",
       "      <td>928</td>\n",
       "      <td>928</td>\n",
       "      <td>13.1</td>\n",
       "      <td>2</td>\n",
       "      <td>419</td>\n",
       "      <td>0</td>\n",
       "    </tr>\n",
       "    <tr>\n",
       "      <th>479</th>\n",
       "      <td>479</td>\n",
       "      <td>tomo_a84050</td>\n",
       "      <td>150.0</td>\n",
       "      <td>458.0</td>\n",
       "      <td>606.0</td>\n",
       "      <td>300</td>\n",
       "      <td>928</td>\n",
       "      <td>928</td>\n",
       "      <td>13.1</td>\n",
       "      <td>2</td>\n",
       "      <td>419</td>\n",
       "      <td>0</td>\n",
       "    </tr>\n",
       "  </tbody>\n",
       "</table>\n",
       "</div>"
      ],
      "text/plain": [
       "     row_id      tomo_id      z      y      x  axis0  axis1  axis2   vxs  \\\n",
       "127     127  tomo_2b3cdf  134.0  173.0  662.0    300    960    928  13.1   \n",
       "232     232  tomo_507b7a  451.0  561.0  366.0    500    928    960  13.1   \n",
       "233     233  tomo_507b7a  427.0  384.0  353.0    500    928    960  13.1   \n",
       "478     478  tomo_a84050   80.0  771.0  150.0    300    928    928  13.1   \n",
       "479     479  tomo_a84050  150.0  458.0  606.0    300    928    928  13.1   \n",
       "\n",
       "     n_motors   id  fold  \n",
       "127         2  107     0  \n",
       "232         2  200     0  \n",
       "233         2  200     0  \n",
       "478         2  419     0  \n",
       "479         2  419     0  "
      ]
     },
     "execution_count": 79,
     "metadata": {},
     "output_type": "execute_result"
    }
   ],
   "source": [
    "val_df[val_df[\"n_motors\"] == 2]"
   ]
  },
  {
   "cell_type": "code",
   "execution_count": null,
   "id": "1094c7ac",
   "metadata": {},
   "outputs": [],
   "source": [
    "preds0 = preds[:, 1, :][None,]"
   ]
  },
  {
   "cell_type": "code",
   "execution_count": 77,
   "id": "776d1053",
   "metadata": {},
   "outputs": [
    {
     "data": {
      "text/plain": [
       "tensor(5.5334e-11, device='cuda:0')"
      ]
     },
     "execution_count": 77,
     "metadata": {},
     "output_type": "execute_result"
    }
   ],
   "source": [
    "preds[:, 0].min()"
   ]
  },
  {
   "cell_type": "code",
   "execution_count": 88,
   "id": "658186ca",
   "metadata": {},
   "outputs": [],
   "source": [
    "nms: \"torch.Tensor\" = simple_nms(preds, nms_radius=100)  # (1,B, D, H, W)\n",
    "nms = nms.squeeze(dim=0)  # (B, D, H, W)"
   ]
  },
  {
   "cell_type": "code",
   "execution_count": null,
   "id": "64f97068",
   "metadata": {},
   "outputs": [],
   "source": [
    "nms.max()"
   ]
  },
  {
   "cell_type": "code",
   "execution_count": 87,
   "id": "c82d8969",
   "metadata": {},
   "outputs": [
    {
     "data": {
      "text/plain": [
       "tensor([0.9918, 0.9989, 0.9984, 0.9913, 0.9997, 0.9918, 0.9900, 0.9958, 0.9979,\n",
       "        0.9990, 0.9998, 0.9998, 0.9999, 0.9986, 1.0000, 0.9993, 0.9975, 1.0000,\n",
       "        0.9960, 0.9985, 0.9990, 0.9989, 0.9995, 0.9993, 0.9996, 0.9921, 0.9991,\n",
       "        0.9932, 0.9999, 0.9982, 0.9904, 0.9940, 0.9990, 0.9999, 0.9967, 0.9996,\n",
       "        0.9995, 0.9981, 0.9987, 0.9943, 0.9952, 0.9988, 0.9968, 0.9992],\n",
       "       device='cuda:0')"
      ]
     },
     "execution_count": 87,
     "metadata": {},
     "output_type": "execute_result"
    }
   ],
   "source": [
    "nms[nms>0.99]"
   ]
  }
 ],
 "metadata": {
  "kernelspec": {
   "display_name": "byu_project",
   "language": "python",
   "name": "python3"
  },
  "language_info": {
   "codemirror_mode": {
    "name": "ipython",
    "version": 3
   },
   "file_extension": ".py",
   "mimetype": "text/x-python",
   "name": "python",
   "nbconvert_exporter": "python",
   "pygments_lexer": "ipython3",
   "version": "3.10.16"
  }
 },
 "nbformat": 4,
 "nbformat_minor": 5
}

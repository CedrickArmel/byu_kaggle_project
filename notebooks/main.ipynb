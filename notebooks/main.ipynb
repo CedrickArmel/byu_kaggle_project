{
 "cells": [
  {
   "cell_type": "code",
   "execution_count": 1,
   "id": "6dc6ec02",
   "metadata": {},
   "outputs": [
    {
     "name": "stderr",
     "output_type": "stream",
     "text": [
      "/root/.pyenv/versions/byu_project/lib/python3.10/site-packages/tqdm/auto.py:21: TqdmWarning: IProgress not found. Please update jupyter and ipywidgets. See https://ipywidgets.readthedocs.io/en/stable/user_install.html\n",
      "  from .autonotebook import tqdm as notebook_tqdm\n"
     ]
    }
   ],
   "source": [
    "import os\n",
    "from glob import glob\n",
    "from concurrent.futures import ProcessPoolExecutor, ThreadPoolExecutor\n",
    "import torch\n",
    "from torchvision.io import decode_jpeg, read_file\n",
    "from tqdm.auto import tqdm"
   ]
  },
  {
   "cell_type": "code",
   "execution_count": 45,
   "id": "129d7407",
   "metadata": {},
   "outputs": [],
   "source": [
    "def generate_3d_grid(shape=(32, 32, 32), device='cpu'):\n",
    "    \"\"\"Generate a 3D grid of shape (D, H, W) with values from -1 to 1 in each axis.\"\"\"\n",
    "    D, H, W = shape\n",
    "    z = torch.linspace(-1, 1, steps=D, device=device)\n",
    "    y = torch.linspace(-1, 1, steps=H, device=device)\n",
    "    x = torch.linspace(-1, 1, steps=W, device=device)\n",
    "    zz, yy, xx = torch.meshgrid(z, y, x, indexing='ij')  # Shape: (D, H, W)\n",
    "    grid = torch.stack([zz, yy, xx], dim=0)  # Shape: (3, D, H, W)\n",
    "    return grid, xx"
   ]
  },
  {
   "cell_type": "code",
   "execution_count": 76,
   "id": "ec050784",
   "metadata": {},
   "outputs": [],
   "source": [
    "volume, svolume = generate_3d_grid()"
   ]
  },
  {
   "cell_type": "code",
   "execution_count": 79,
   "id": "f49f3b96",
   "metadata": {},
   "outputs": [],
   "source": [
    "svolume = svolume.unsqueeze(dim=0)"
   ]
  },
  {
   "cell_type": "code",
   "execution_count": 112,
   "id": "b2d83d0f",
   "metadata": {},
   "outputs": [],
   "source": [
    "# Top-k keypoints instead of dynamic torch.where\n",
    "flat_nms = volume.contiguous().view(volume.shape[0], -1)  # (B, D*H*W)"
   ]
  },
  {
   "cell_type": "code",
   "execution_count": 113,
   "id": "bc5e2682",
   "metadata": {},
   "outputs": [],
   "source": [
    "conf_vals, indices = torch.topk(flat_nms, k=10, dim=1)  # (B, K)\n",
    "\n",
    "# Convert flat indices to 3D (z, y, x)\n",
    "zyx = torch.stack(torch.unravel_index(indices, volume.shape[-3:]), dim=-1)  # (3, B, K)\n",
    "# zyx = zyx.permute(1, 2, 0)  # (B, K, 3)"
   ]
  },
  {
   "cell_type": "code",
   "execution_count": 120,
   "id": "dc9f160d",
   "metadata": {},
   "outputs": [
    {
     "data": {
      "text/plain": [
       "torch.Size([30])"
      ]
     },
     "execution_count": 120,
     "metadata": {},
     "output_type": "execute_result"
    }
   ],
   "source": [
    "conf_vals.view(-1).shape"
   ]
  },
  {
   "cell_type": "code",
   "execution_count": 110,
   "id": "980612f9",
   "metadata": {},
   "outputs": [
    {
     "data": {
      "text/plain": [
       "torch.Size([1, 10, 3])"
      ]
     },
     "execution_count": 110,
     "metadata": {},
     "output_type": "execute_result"
    }
   ],
   "source": [
    "zyx.shape"
   ]
  },
  {
   "cell_type": "code",
   "execution_count": 137,
   "id": "262bea02",
   "metadata": {},
   "outputs": [],
   "source": [
    "batch_idx = torch.arange(zyx.shape[0]).unsqueeze(1).expand(zyx.shape[0], 10)"
   ]
  },
  {
   "cell_type": "code",
   "execution_count": 136,
   "id": "989f588e",
   "metadata": {},
   "outputs": [
    {
     "data": {
      "text/plain": [
       "3"
      ]
     },
     "execution_count": 136,
     "metadata": {},
     "output_type": "execute_result"
    }
   ],
   "source": [
    "zyx.shape[0]"
   ]
  },
  {
   "cell_type": "code",
   "execution_count": 139,
   "id": "0a201af5",
   "metadata": {},
   "outputs": [
    {
     "data": {
      "text/plain": [
       "tensor([[0, 0, 0, 0, 0, 0, 0, 0, 0, 0],\n",
       "        [1, 1, 1, 1, 1, 1, 1, 1, 1, 1],\n",
       "        [2, 2, 2, 2, 2, 2, 2, 2, 2, 2]])"
      ]
     },
     "execution_count": 139,
     "metadata": {},
     "output_type": "execute_result"
    }
   ],
   "source": [
    "batch_idx"
   ]
  },
  {
   "cell_type": "code",
   "execution_count": 88,
   "id": "5c32bc8c",
   "metadata": {},
   "outputs": [],
   "source": [
    "batch_idx = batch_idx.reshape(-1, 1)\n",
    "zyx_flat = zyx.reshape(-1, 3)"
   ]
  },
  {
   "cell_type": "code",
   "execution_count": 90,
   "id": "51845483",
   "metadata": {},
   "outputs": [
    {
     "data": {
      "text/plain": [
       "torch.Size([10, 1])"
      ]
     },
     "execution_count": 90,
     "metadata": {},
     "output_type": "execute_result"
    }
   ],
   "source": [
    "batch_idx.shape"
   ]
  },
  {
   "cell_type": "code",
   "execution_count": 93,
   "id": "2868b7ff",
   "metadata": {},
   "outputs": [],
   "source": [
    "bzyx = torch.cat([batch_idx, zyx_flat], dim = 1)"
   ]
  },
  {
   "cell_type": "code",
   "execution_count": 108,
   "id": "dfc2aab3",
   "metadata": {},
   "outputs": [],
   "source": [
    "zeros = torch.zeros((2, 2, 5, 5, 5))"
   ]
  },
  {
   "cell_type": "code",
   "execution_count": 109,
   "id": "06e38d65",
   "metadata": {},
   "outputs": [
    {
     "data": {
      "text/plain": [
       "torch.Size([2, 2, 5, 5, 5])"
      ]
     },
     "execution_count": 109,
     "metadata": {},
     "output_type": "execute_result"
    }
   ],
   "source": [
    "zeros.squeeze(dim=1).shape"
   ]
  },
  {
   "cell_type": "code",
   "execution_count": null,
   "id": "190a49e2",
   "metadata": {},
   "outputs": [],
   "source": []
  }
 ],
 "metadata": {
  "kernelspec": {
   "display_name": "byu_project",
   "language": "python",
   "name": "python3"
  },
  "language_info": {
   "codemirror_mode": {
    "name": "ipython",
    "version": 3
   },
   "file_extension": ".py",
   "mimetype": "text/x-python",
   "name": "python",
   "nbconvert_exporter": "python",
   "pygments_lexer": "ipython3",
   "version": "3.10.16"
  }
 },
 "nbformat": 4,
 "nbformat_minor": 5
}

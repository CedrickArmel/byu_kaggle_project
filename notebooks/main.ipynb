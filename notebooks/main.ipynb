{
 "cells": [
  {
   "cell_type": "code",
   "execution_count": 8,
   "id": "6dc6ec02",
   "metadata": {},
   "outputs": [],
   "source": [
    "import os\n",
    "from glob import glob\n",
    "from concurrent.futures import ProcessPoolExecutor, ThreadPoolExecutor\n",
    "import torch\n",
    "from torchvision.io import decode_jpeg, read_file\n",
    "from tqdm.auto import tqdm"
   ]
  },
  {
   "cell_type": "code",
   "execution_count": 9,
   "id": "304ccc3c",
   "metadata": {},
   "outputs": [],
   "source": [
    "def load_image(path: \"str\") -> \"torch.Tensor\":\n",
    "    \"\"\"Load an image from a file path.\"\"\"\n",
    "    img = read_file(path)\n",
    "    img = decode_jpeg(img, mode=\"GRAY\")\n",
    "    return img"
   ]
  },
  {
   "cell_type": "code",
   "execution_count": null,
   "id": "685bf61d",
   "metadata": {},
   "outputs": [],
   "source": [
    "def load_tomogram_mp() -> \"torch.Tensor\":\n",
    "    slices_path = os.path.join(\"/kaggle/input/byu-locating-bacterial-flagellar-motors-2025/train/tomo_003acc\", \"*.jpg\")\n",
    "    with ProcessPoolExecutor(max_workers=4) as executor:\n",
    "        slices = list(executor.map(load_image, sorted(glob(slices_path, recursive=True))))\n",
    "    image = torch.stack(slices).squeeze()\n",
    "    return image"
   ]
  },
  {
   "cell_type": "code",
   "execution_count": null,
   "id": "024735b2",
   "metadata": {},
   "outputs": [],
   "source": [
    "\n",
    "\n",
    "with ProcessPoolExecutor(max_workers=4) as executor:\n",
    "    results = list(executor.map(cpu_heavy_fn, data))"
   ]
  },
  {
   "cell_type": "code",
   "execution_count": null,
   "id": "7405b923",
   "metadata": {},
   "outputs": [],
   "source": [
    "with ThreadPoolExecutor(max_workers=8) as executor:\n",
    "    results = list(executor.map(load_image, image_paths))"
   ]
  },
  {
   "cell_type": "code",
   "execution_count": null,
   "id": "ac5af4cd",
   "metadata": {},
   "outputs": [],
   "source": [
    "def load_tomogram(self, tomo_id: \"str\") -> \"torch.Tensor\":\n",
    "    \"\"\"_Return one tomogram_\n",
    "\n",
    "    Args:\n",
    "        tomo_id (str): Tomogram to be loaded' ID\n",
    "\n",
    "    Returns:\n",
    "        torch.Tensor: _Loaded tomogram_\n",
    "    \"\"\"\n",
    "    mode = \"train\" if self.mode == \"validation\" else self.mode\n",
    "    slices_path = os.path.join(self.data_folder, mode, tomo_id, \"*.jpg\")\n",
    "    image = torch.stack(\n",
    "        [load_image(path) for path in sorted(glob(slices_path, recursive=True))]\n",
    "    ).squeeze()\n",
    "    return image"
   ]
  }
 ],
 "metadata": {
  "kernelspec": {
   "display_name": "byu_project",
   "language": "python",
   "name": "python3"
  },
  "language_info": {
   "codemirror_mode": {
    "name": "ipython",
    "version": 3
   },
   "file_extension": ".py",
   "mimetype": "text/x-python",
   "name": "python",
   "nbconvert_exporter": "python",
   "pygments_lexer": "ipython3",
   "version": "3.10.16"
  }
 },
 "nbformat": 4,
 "nbformat_minor": 5
}

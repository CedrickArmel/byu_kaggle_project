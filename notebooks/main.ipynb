{
 "cells": [
  {
   "cell_type": "code",
   "execution_count": null,
   "id": "6dc6ec02",
   "metadata": {},
   "outputs": [],
   "source": [
    "import torch\n",
    "import torch.nn.functional as F\n",
    "\n",
    "from omegaconf import OmegaConf\n",
    "from app.utils import get_data, get_data_loader\n",
    "from app.processings.post_processing import get_output_size, reconstruct, simple_nms"
   ]
  },
  {
   "cell_type": "code",
   "execution_count": null,
   "id": "fa5e15b6",
   "metadata": {},
   "outputs": [],
   "source": [
    "# state =  torch.load(\"/kaggle/working/resnet10/version_17/checkpoints/last.ckpt\", map_location=\"cpu\")"
   ]
  },
  {
   "cell_type": "code",
   "execution_count": null,
   "id": "490d5ac6",
   "metadata": {},
   "outputs": [],
   "source": [
    "from numpy.typing import NDArray\n",
    "from scipy.spatial import KDTree\n",
    "from torchmetrics.utilities import dim_zero_cat"
   ]
  },
  {
   "cell_type": "code",
   "execution_count": null,
   "id": "c0f7c46c",
   "metadata": {},
   "outputs": [],
   "source": [
    "OmegaConf.register_new_resolver(\"eval\", resolver=eval, replace=True)"
   ]
  },
  {
   "cell_type": "markdown",
   "id": "7d27ea36",
   "metadata": {},
   "source": [
    "os.environ[\"ISTPUVM\"] = \"1\"\n",
    "os.environ[\"PJRT_DEVICE\"] = \"CPU\"\n",
    "os.environ[\"PT_XLA_DEBUG_LEVEL\"] = \"1\"\n",
    "os.environ[\"TF_CPP_MIN_LOG_LEVEL\"] = \"2\"\n",
    "os.environ[\"TPU_ACCELERATOR_TYPE\"] = \"v3-8\"\n",
    "os.environ[\"TPU_CHIPS_PER_HOST_BOUNDS\"] = \"2,2,1\"\n",
    "os.environ[\"TPU_HOST_BOUNDS\"] = \"1,1,1\"\n",
    "os.environ[\"TPU_RUNTIME_METRICS_PORTS\"] = \"8431,8432,8433,8434\"\n",
    "os.environ[\"TPU_SKIP_MDS_QUERY\"] = \"1\"\n",
    "os.environ[\"TPU_WORKER_HOSTNAMES\"] = \"localhost\"\n",
    "os.environ[\"TPU_WORKER_ID\"] = \"0\"\n",
    "os.environ[\"XLA_TENSOR_ALLOCATOR_MAXSIZE\"] = \"100000000\""
   ]
  },
  {
   "cell_type": "code",
   "execution_count": null,
   "id": "6db72768",
   "metadata": {},
   "outputs": [],
   "source": [
    "cfg = OmegaConf.load(\"../src/app/config/config.yaml\")"
   ]
  },
  {
   "cell_type": "code",
   "execution_count": null,
   "id": "402ea378",
   "metadata": {},
   "outputs": [],
   "source": [
    "cfg.val_persistent_workers = True"
   ]
  },
  {
   "cell_type": "code",
   "execution_count": null,
   "id": "ce0a76c6",
   "metadata": {},
   "outputs": [],
   "source": [
    "train_df, val_df = get_data(cfg, mode=\"fit\")\n",
    "train_loader = get_data_loader(cfg, train_df, mode=\"train\")\n",
    "val_loader = get_data_loader(cfg, val_df, mode=\"validation\")"
   ]
  },
  {
   "cell_type": "code",
   "execution_count": null,
   "id": "040411de",
   "metadata": {},
   "outputs": [],
   "source": [
    "targets = torch.from_numpy(val_df[[\"z\", \"y\", \"x\", \"id\", \"vxs\"]].values)"
   ]
  },
  {
   "cell_type": "code",
   "execution_count": null,
   "id": "fb129882",
   "metadata": {},
   "outputs": [],
   "source": [
    "test_outputs = torch.load(\"/kaggle/working/logits38.pt\", weights_only=False)"

   ]
  },
  {
   "cell_type": "code",
   "execution_count": null,
   "id": "17a7b6ad",
   "metadata": {},
   "outputs": [],
   "source": [
    "tr_it = iter(val_loader)"

   ]
  },
  {
   "cell_type": "code",
   "execution_count": null,
   "id": "0f9cc4b6",
   "metadata": {},
   "outputs": [],
   "source": [
    "for batch in range(len(val_loader)):\n",
    "    batch = next(tr_it)\n",
    "    if batch[\"id\"][0] != 38:\n",
    "        continue\n",
    "    break"
   ]
  },
  {
   "cell_type": "code",
   "execution_count": null,
   "id": "24f2b731",
   "metadata": {},
   "outputs": [],
   "source": [
    "batch[\"logits\"] = torch.from_numpy(test_outputs)"
   ]
  },
  {
   "cell_type": "code",
   "execution_count": null,
   "id": "bd9e8ec9",
   "metadata": {},
   "outputs": [],
   "source": [
    "batch = {\n",
    "    k: v.to(\"cuda:0\") if isinstance(v, torch.Tensor) else v for k, v in batch.items()\n",
    "}"
   ]
  },
  {
   "cell_type": "code",
   "execution_count": null,
   "id": "e47cf8a7",
   "metadata": {},
   "outputs": [],
   "source": [
    "net_output = batch"
   ]
  },
  {
   "cell_type": "code",
   "execution_count": null,
   "id": "83a5eff2",
   "metadata": {},
   "outputs": [],
   "source": [
    "device = net_output[\"logits\"].device\n",
    "new_size = torch.tensor(cfg.new_size, device=net_output[\"logits\"].device)\n",
    "roi_size = torch.tensor(cfg.roi_size, device=net_output[\"logits\"].device)"
   ]
  },
  {
   "cell_type": "code",
   "execution_count": null,
   "id": "193b6ba3",
   "metadata": {},
   "outputs": [],
   "source": [
    "img: \"torch.Tensor\" = net_output[\"logits\"].detach()"
   ]
  },
  {
   "cell_type": "code",
   "execution_count": null,
   "id": "59a69e3d",
   "metadata": {},
   "outputs": [],
   "source": [
    "batch[\"target\"].shape"
   ]
  },
  {
   "cell_type": "code",
   "execution_count": null,
   "id": "5868e220",
   "metadata": {},
   "outputs": [],
   "source": [
    "locations: \"torch.Tensor\" = net_output[\"location\"]\n",
    "scales: \"torch.Tensor\" = net_output[\"scale\"]\n",
    "tomo_ids: \"torch.Tensor\" = torch.tensor(net_output[\"id\"], device=device)"
   ]
  },
  {
   "cell_type": "code",
   "execution_count": null,
   "id": "0b29e2d7",
   "metadata": {},
   "outputs": [],
   "source": [
    "out_size = get_output_size(img, locations, roi_size, device)\n",
    "rec_img = reconstruct(\n",
    "    img=img,\n",
    "    locations=locations,\n",
    "    out_size=out_size,\n",
    "    crop_size=roi_size,\n",
    "    device=device,\n",
    ")"
   ]
  },
  {
   "cell_type": "code",
   "execution_count": null,
   "id": "161ddf10",
   "metadata": {},
   "outputs": [],
   "source": [
    "s = torch.tensor(rec_img.shape[-3:], device=device)\n",
    "delta = (s - new_size) // 2  # delta to remove padding added during transforms\n",
    "dz, dy, dx = delta.tolist()\n",
    "nz, ny, nx = new_size.tolist()\n",
    "\n",
    "rec_img = rec_img[:, :, dz : nz + dz, dy : ny + dy, dx : nx + dx]\n",
    "\n",
    "rec_img = F.interpolate(\n",
    "    rec_img,\n",
    "    size=[d // 2 for d in new_size.tolist()],\n",
    "    mode=\"trilinear\",\n",
    "    align_corners=False,\n",
    ")"
   ]
  },
  {
   "cell_type": "code",
   "execution_count": null,
   "id": "fab87893",
   "metadata": {},
   "outputs": [],
   "source": [
    "preds: \"torch.Tensor\" = rec_img.softmax(1)"
   ]
  },
  {
   "cell_type": "code",
   "execution_count": null,
   "id": "1094c7ac",
   "metadata": {},
   "outputs": [],
   "source": [
    "preds0 = preds[:, 1, :][None,]"
   ]
  },
  {
   "cell_type": "code",
   "execution_count": null,
   "id": "658186ca",
   "metadata": {},
   "outputs": [],
   "source": [
    "nms: \"torch.Tensor\" = simple_nms(preds0, nms_radius=100)  # (1,B, D, H, W)\n",
    "nms = nms.squeeze(dim=0)  # (B, D, H, W)"
   ]
  }
 ],
 "metadata": {
  "kernelspec": {
   "display_name": "byu_project",
   "language": "python",
   "name": "python3"
  },
  "language_info": {
   "codemirror_mode": {
    "name": "ipython",
    "version": 3
   },
   "file_extension": ".py",
   "mimetype": "text/x-python",
   "name": "python",
   "nbconvert_exporter": "python",
   "pygments_lexer": "ipython3",
   "version": "3.10.16"
  }
 },
 "nbformat": 4,
 "nbformat_minor": 5
}

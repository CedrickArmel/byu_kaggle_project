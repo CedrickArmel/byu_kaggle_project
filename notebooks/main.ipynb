{
 "cells": [
  {
   "cell_type": "code",
   "execution_count": null,
   "id": "6dc6ec02",
   "metadata": {},
   "outputs": [],
   "source": [
    "import datetime\n",
    "import os\n",
    "from glob import glob\n",
    "\n",
    "import torch\n",
    "import torch.nn.functional as F\n",
    "\n",
    "from omegaconf import OmegaConf\n",
    "from app.config import excl, root_dir\n",
    "from app.models.lightning import Net\n",
    "from app.utils import get_data, get_data_loader\n",
    "from app.processings.post_processing import get_output_size, reconstruct, simple_nms"
   ]
  },
  {
   "cell_type": "code",
   "execution_count": null,
   "id": "c0f7c46c",
   "metadata": {},
   "outputs": [],
   "source": [
    "OmegaConf.register_new_resolver(\"excl\", resolver=excl, replace=True)\n",
    "OmegaConf.register_new_resolver(\"root_dir\", resolver=root_dir, replace=True)\n",
    "OmegaConf.register_new_resolver(\"eval\", resolver=eval, replace=True)"
   ]
  },
  {
   "cell_type": "code",
   "execution_count": null,
   "id": "7d27ea36",
   "metadata": {},
   "outputs": [],
   "source": [
    "os.environ[\"ISTPUVM\"] = \"1\"\n",
    "os.environ[\"PJRT_DEVICE\"] = \"CPU\"\n",
    "os.environ[\"PT_XLA_DEBUG_LEVEL\"] = \"1\"\n",
    "os.environ[\"TF_CPP_MIN_LOG_LEVEL\"] = \"2\"\n",
    "os.environ[\"TPU_ACCELERATOR_TYPE\"] = \"v3-8\"\n",
    "os.environ[\"TPU_CHIPS_PER_HOST_BOUNDS\"] = \"2,2,1\"\n",
    "os.environ[\"TPU_HOST_BOUNDS\"] = \"1,1,1\"\n",
    "os.environ[\"TPU_RUNTIME_METRICS_PORTS\"] = \"8431,8432,8433,8434\"\n",
    "os.environ[\"TPU_SKIP_MDS_QUERY\"] = \"1\"\n",
    "os.environ[\"TPU_WORKER_HOSTNAMES\"] = \"localhost\"\n",
    "os.environ[\"TPU_WORKER_ID\"] = \"0\"\n",
    "os.environ[\"XLA_TENSOR_ALLOCATOR_MAXSIZE\"] = \"100000000\""
   ]
  },
  {
   "cell_type": "code",
   "execution_count": null,
   "id": "6db72768",
   "metadata": {},
   "outputs": [],
   "source": [
    "cfg = OmegaConf.load(\"../src/app/config/config.yaml\")"
   ]
  },
  {
   "cell_type": "code",
   "execution_count": null,
   "id": "ce0a76c6",
   "metadata": {},
   "outputs": [],
   "source": [
    "train_df, val_df = get_data(cfg, mode=\"fit\")\n",
    "train_loader = get_data_loader(cfg, train_df, mode=\"train\")\n",
    "val_loader = get_data_loader(cfg, val_df, mode=\"validation\")"
   ]
  },
  {
   "cell_type": "code",
   "execution_count": null,
   "id": "f2bcd83a",
   "metadata": {},
   "outputs": [],
   "source": [
    "model = Net(cfg)"
   ]
  },
  {
   "cell_type": "code",
   "execution_count": null,
   "id": "0d30aba0",
   "metadata": {},
   "outputs": [],
   "source": [
    "batch = next(iter(val_loader))"
   ]
  },
  {
   "cell_type": "code",
   "execution_count": null,
   "id": "9e0788af",
   "metadata": {},
   "outputs": [],
   "source": [
    "model.eval()\n",
    "output = model(batch)"
   ]
  }
 ],
 "metadata": {
  "kernelspec": {
   "display_name": "byu_project",
   "language": "python",
   "name": "python3"
  },
  "language_info": {
   "codemirror_mode": {
    "name": "ipython",
    "version": 3
   },
   "file_extension": ".py",
   "mimetype": "text/x-python",
   "name": "python",
   "nbconvert_exporter": "python",
   "pygments_lexer": "ipython3",
   "version": "3.10.16"
  }
 },
 "nbformat": 4,
 "nbformat_minor": 5
}

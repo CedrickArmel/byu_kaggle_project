{
 "cells": [
  {
   "cell_type": "code",
   "execution_count": null,
   "id": "6dc6ec02",
   "metadata": {},
   "outputs": [],
   "source": [
    "import datetime\n",
    "import os\n",
    "from glob import glob\n",
    "\n",
    "import numpy as np\n",
    "import torch\n",
    "import torch.nn.functional as F\n",
    "\n",
    "from omegaconf import OmegaConf\n",
    "from torchinfo import summary\n",
    "from app.config import root_dir\n",
    "from app.metrics import BYUFbeta\n",
    "from app.metrics.metrics import get_topk_by_id, thresholder, filter_negatives\n",
    "from app.models.lightning import Net\n",
    "from app.utils import get_data, get_data_loader\n",
    "from app.processings.post_processing import get_output_size, reconstruct, simple_nms"
   ]
  },
  {
   "cell_type": "code",
   "execution_count": null,
   "id": "490d5ac6",
   "metadata": {},
   "outputs": [],
   "source": [
    "from numpy.typing import NDArray\n",
    "from scipy.spatial import KDTree\n",
    "from torchmetrics.utilities import dim_zero_cat"
   ]
  },
  {
   "cell_type": "code",
   "execution_count": null,
   "id": "c0f7c46c",
   "metadata": {},
   "outputs": [],
   "source": [
    "OmegaConf.register_new_resolver(\"root_dir\", resolver=root_dir, replace=True)\n",
    "OmegaConf.register_new_resolver(\"eval\", resolver=eval, replace=True)"
   ]
  },
  {
   "cell_type": "code",
   "execution_count": null,
   "id": "7d27ea36",
   "metadata": {},
   "outputs": [],
   "source": [
    "os.environ[\"ISTPUVM\"] = \"1\"\n",
    "os.environ[\"PJRT_DEVICE\"] = \"CPU\"\n",
    "os.environ[\"PT_XLA_DEBUG_LEVEL\"] = \"1\"\n",
    "os.environ[\"TF_CPP_MIN_LOG_LEVEL\"] = \"2\"\n",
    "os.environ[\"TPU_ACCELERATOR_TYPE\"] = \"v3-8\"\n",
    "os.environ[\"TPU_CHIPS_PER_HOST_BOUNDS\"] = \"2,2,1\"\n",
    "os.environ[\"TPU_HOST_BOUNDS\"] = \"1,1,1\"\n",
    "os.environ[\"TPU_RUNTIME_METRICS_PORTS\"] = \"8431,8432,8433,8434\"\n",
    "os.environ[\"TPU_SKIP_MDS_QUERY\"] = \"1\"\n",
    "os.environ[\"TPU_WORKER_HOSTNAMES\"] = \"localhost\"\n",
    "os.environ[\"TPU_WORKER_ID\"] = \"0\"\n",
    "os.environ[\"XLA_TENSOR_ALLOCATOR_MAXSIZE\"] = \"100000000\""
   ]
  },
  {
   "cell_type": "code",
   "execution_count": null,
   "id": "6db72768",
   "metadata": {},
   "outputs": [],
   "source": [
    "cfg = OmegaConf.load(\"../src/app/config/config.yaml\")"
   ]
  },
  {
   "cell_type": "code",
   "execution_count": null,
   "id": "b41ada40",
   "metadata": {},
   "outputs": [],
   "source": [
    "cfg.max_th = 0.7"
   ]
  },
  {
   "cell_type": "code",
   "execution_count": null,
   "id": "ce0a76c6",
   "metadata": {},
   "outputs": [],
   "source": [
    "train_df, val_df = get_data(cfg, mode=\"fit\")\n",
    "train_loader = get_data_loader(cfg, train_df, mode=\"train\")\n",
    "val_loader = get_data_loader(cfg, val_df, mode=\"validation\")"
   ]
  },
  {
   "cell_type": "code",
   "execution_count": null,
   "id": "620b1b5d",
   "metadata": {},
   "outputs": [],
   "source": [
    "metric = BYUFbeta(cfg, compute_on_cpu=True, dist_sync_on_step=True)"
   ]
  },
  {
   "cell_type": "code",
   "execution_count": null,
   "id": "d6b3a1ce",
   "metadata": {},
   "outputs": [],
   "source": [
    "zyxic = torch.load(\"\")"
   ]
  },
  {
   "cell_type": "code",
   "execution_count": null,
   "id": "e226b074",
   "metadata": {},
   "outputs": [],
   "source": [
    "targets = torch.from_numpy(\n",
    "    val_df[val_df.id.isin(np.unique(zyxic[:, 3]))][[\"z\", \"y\", \"x\", \"id\", \"vxs\"]]\n",
    "    .copy()\n",
    "    .values\n",
    ")"
   ]
  },
  {
   "cell_type": "code",
   "execution_count": null,
   "id": "a810e4e5",
   "metadata": {},
   "outputs": [],
   "source": [
    "results = metric(zyxic, targets)"
   ]
  },
  {
   "cell_type": "code",
   "execution_count": null,
   "id": "8d483f49",
   "metadata": {},
   "outputs": [],
   "source": [
    "results"
   ]
  },
  {
   "cell_type": "code",
   "execution_count": null,
   "id": "f2bcd83a",
   "metadata": {},
   "outputs": [],
   "source": [
    "model = Net(cfg)"
   ]
  },
  {
   "cell_type": "code",
   "execution_count": null,
   "id": "0d30aba0",
   "metadata": {},
   "outputs": [],
   "source": [
    "batch = next(iter(val_loader))"
   ]
  },
  {
   "cell_type": "code",
   "execution_count": null,
   "id": "9e0788af",
   "metadata": {},
   "outputs": [],
   "source": [
    "model.eval()\n",
    "output = model(batch)"
   ]
  }
 ],
 "metadata": {
  "kernelspec": {
   "display_name": "byu_project",
   "language": "python",
   "name": "python3"
  },
  "language_info": {
   "codemirror_mode": {
    "name": "ipython",
    "version": 3
   },
   "file_extension": ".py",
   "mimetype": "text/x-python",
   "name": "python",
   "nbconvert_exporter": "python",
   "pygments_lexer": "ipython3",
   "version": "3.10.16"
  }
 },
 "nbformat": 4,
 "nbformat_minor": 5
}

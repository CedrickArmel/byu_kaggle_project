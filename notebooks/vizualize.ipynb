{
 "cells": [
  {
   "cell_type": "code",
   "execution_count": null,
   "id": "4ee26e2e",
   "metadata": {},
   "outputs": [],
   "source": [
    "import matplotlib.pyplot as plt\n",

    "import pandas as pd\n",
    "import torch\n",
    "import torch.nn.functional as F\n",
    "\n",
    "from omegaconf import OmegaConf\n",

    "from app.utils import get_data"
   ]
  },
  {
   "cell_type": "code",
   "execution_count": null,
   "id": "a2f400c7",
   "metadata": {},
   "outputs": [],
   "source": [
    "OmegaConf.register_new_resolver(\"eval\", resolver=eval, replace=True)"
   ]
  },
  {
   "cell_type": "code",
   "execution_count": null,
   "id": "28da0bea",
   "metadata": {},
   "outputs": [],
   "source": [
    "cfg = OmegaConf.load(\"../src/app/config/config.yaml\")"
   ]
  },
  {
   "cell_type": "code",
   "execution_count": null,
   "id": "06d890f5",
   "metadata": {},
   "outputs": [],
   "source": [
    "train_df, val_df = get_data(cfg, mode=\"fit\")"
   ]
  },
  {
   "cell_type": "code",
   "execution_count": null,
   "id": "4df3e97a",
   "metadata": {},
   "outputs": [],
   "source": [
    "from app.data import BYUCustomDataset"
   ]
  },
  {
   "cell_type": "code",
   "execution_count": null,
   "id": "8a33ef2d",
   "metadata": {},
   "outputs": [],
   "source": [
    "cfg.gamma"
   ]
  },
  {
   "cell_type": "code",
   "execution_count": null,
   "id": "1d656fc9",
   "metadata": {},
   "outputs": [],
   "source": [
    "cfg.reduce_mode = \"nearest-exact\"\n",
    "cfg.reduce_align_corners = None\n",
    "cfg.roi_size = [96, 192, 192]\n",
    "cfg.gamma = 2\n",
    "dataset = BYUCustomDataset(cfg, df=train_df, mode=\"train\")"
   ]
  },
  {
   "cell_type": "code",
   "execution_count": null,
   "id": "3f430ba1",
   "metadata": {},
   "outputs": [],
   "source": [
    "DISPLAY_RANGE = [112, 142]\n",
    "fig, axs = plt.subplots(10, 3, figsize=(15, 45))\n",
    "for i in range(30):\n",
    "    data = dataset.get_data_dict(idx=DISPLAY_RANGE[0] + i)\n",
    "    row = i // 3\n",
    "    col = i % 3\n",
    "    ax = axs[row, col]\n",
    "    targets = torch.stack(torch.where(data[\"target\"] == 1)).T\n",
    "    ax.imshow(data[\"input\"][int(targets[0][0])], cmap=\"gray\")\n",
    "    for _, y, x in targets:\n",
    "        ax.scatter(\n",
    "            x + 2, y, color=\"red\", s=20, linewidth=2, marker=\"o\", facecolors=\"none\"\n",
    "        )\n",
    "        ax.scatter(\n",
    "            x, y, color=\"red\", s=20, linewidth=2, marker=\"o\", facecolors=\"none\"\n",
    "        )  # s=10 pour la taille des points\n",
    "    ax.axis(\"off\")\n",
    "plt.tight_layout()\n",
    "plt.show()"
   ]
  },
  {
   "cell_type": "code",
   "execution_count": null,
   "id": "1aedd1db",

   "metadata": {},
   "outputs": [],
   "source": [
    "DISPLAY_RANGE = [112, 142]\n",
    "fig, axs = plt.subplots(10, 3, figsize=(15, 45))\n",
    "for i in range(5):\n",
    "    data = dataset[DISPLAY_RANGE[0] + i]\n",
    "    row = i // 3\n",
    "    col = i % 3\n",
    "    ax = axs[row, col]\n",
    "    targets = torch.stack(torch.where(data[\"target\"] == 1)).T\n",
    "    ax.imshow(data[\"input\"][0][0][int(targets[0][2])], cmap=\"gray\")\n",
    "    for _, y, x in targets[:, -3:]:\n",
    "        ax.scatter(\n",
    "            x + 2, y, color=\"red\", s=20, linewidth=2, marker=\"o\", facecolors=\"none\"\n",
    "        )\n",
    "        ax.scatter(\n",
    "            x, y, color=\"red\", s=20, linewidth=2, marker=\"o\", facecolors=\"none\"\n",
    "        )  # s=10 pour la taille des points\n",
    "    ax.axis(\"off\")\n",
    "plt.tight_layout()\n",
    "plt.show()"
   ]
  },
  {
   "cell_type": "code",
   "execution_count": null,
   "id": "b420ce00",
   "metadata": {},
   "outputs": [],
   "source": [
    "x_pooled_cords = []\n",
    "y_pooled_cords = []\n",
    "z_pooled_cords = []\n",
    "x_computed_cords = []\n",
    "y_computed_cords = []\n",
    "z_computed_cords = []\n",
    "true_cords = []\n",
    "ids = []\n",
    "\n",
    "for i in range(len(dataset)):\n",
    "    data = dataset.get_data_dict(idx=i)\n",
    "    if data[\"zyx\"][0][0] == -1:\n",
    "        continue\n",
    "    dim = data[\"dim\"]\n",
    "    s = data[\"input\"].shape\n",
    "    zyx = torch.from_numpy(\n",
    "        train_df.sort_values(by=[\"z\", \"y\", \"x\"])\n",
    "        .loc[train_df[\"id\"] == data[\"id\"], [\"z\", \"y\", \"x\"]]\n",
    "        .values\n",
    "    )\n",
    "    true_cords.append(zyx[0])\n",
    "    mask = torch.zeros(dim)\n",
    "    mask[\n",
    "        zyx[:, 0].to(torch.int),\n",
    "        zyx[:, 1].to(torch.int),\n",
    "        zyx[:, 2].to(torch.int),\n",
    "    ] = 1.0\n",
    "    pooled_cords = torch.where(\n",
    "        F.adaptive_max_pool3d(mask.unsqueeze(0).to(torch.float), (s[0], s[1], s[2]))\n",
    "        == 1.0\n",
    "    )\n",
    "    computed_cords = torch.where(data[\"target\"] == 1.0)\n",
    "    z_pooled_cords.append(pooled_cords[1][0])\n",
    "    y_pooled_cords.append(pooled_cords[2][0])\n",
    "    x_pooled_cords.append(pooled_cords[3][0])\n",
    "    z_computed_cords.append(computed_cords[0][0])\n",
    "    y_computed_cords.append(computed_cords[1][0])\n",
    "    x_computed_cords.append(computed_cords[2][0])\n",
    "    ids.append(data[\"id\"])"
   ]
  },
  {
   "cell_type": "code",
   "execution_count": null,
   "id": "d5fbe071",
   "metadata": {},
   "outputs": [],
   "source": [
    "zyxs = torch.cat([t.reshape(1, -1) for t in true_cords], dim=0)"
   ]
  },
  {
   "cell_type": "code",
   "execution_count": null,
   "id": "fb8e854b",
   "metadata": {},
   "outputs": [],
   "source": [
    "delta_analysis_df = pd.DataFrame(\n",
    "    dict(\n",
    "        z=zyxs[:, 0],\n",
    "        y=zyxs[:, 1],\n",
    "        x=zyxs[:, 2],\n",
    "        z_pooled=torch.tensor(z_pooled_cords).numpy(),\n",
    "        y_pooled=torch.tensor(y_pooled_cords).numpy(),\n",
    "        x_pooled=torch.tensor(x_pooled_cords).numpy(),\n",
    "        z_computed=torch.tensor(z_computed_cords).numpy(),\n",
    "        y_computed=torch.tensor(y_computed_cords).numpy(),\n",
    "        x_computed=torch.tensor(x_computed_cords).numpy(),\n",
    "        id=ids,\n",
    "    )\n",
    ")"
   ]
  },
  {
   "cell_type": "code",
   "execution_count": null,
   "id": "0738535e",
   "metadata": {},
   "outputs": [],
   "source": [
    "scales = []\n",
    "ids = []\n",
    "\n",
    "for i in range(len(dataset)):\n",
    "    data = dataset.get_data_dict(idx=i)\n",
    "    if data[\"zyx\"][0][0] == -1:\n",
    "        continue\n",
    "    scales.append(data[\"scale\"])\n",
    "    ids.append(data[\"id\"])"
   ]
  },
  {
   "cell_type": "code",
   "execution_count": null,
   "id": "14472965",
   "metadata": {},
   "outputs": [],
   "source": [
    "scales = torch.cat([s.reshape(1, -1) for s in scales], dim=0)"
   ]
  },
  {
   "cell_type": "code",
   "execution_count": null,
   "id": "236ef8ee",
   "metadata": {},
   "outputs": [],
   "source": [
    "delta_analysis_df = delta_analysis_df.merge(\n",
    "    pd.DataFrame(\n",
    "        dict(z_scale=scales[:, 0], y_scale=scales[:, 1], x_scale=scales[:, 2], id=ids)\n",
    "    ),\n",
    "    how=\"inner\",\n",
    "    on=\"id\",\n",
    ")"
   ]
  },
  {
   "cell_type": "code",
   "execution_count": null,
   "id": "19d13e2a",
   "metadata": {},
   "outputs": [],
   "source": [
    "# delta_analysis_df.to_csv(\"/kaggle/working/delta_analysis.csv\", index=False)"
   ]
  },
  {
   "cell_type": "code",
   "execution_count": null,
   "id": "47e2e533",
   "metadata": {},
   "outputs": [],
   "source": [
    "delta_analysis_df[\"z_pool_err\"] = delta_analysis_df[\"z\"] - (\n",
    "    delta_analysis_df[\"z_pooled\"] / delta_analysis_df[\"z_scale\"]\n",
    ")\n",
    "delta_analysis_df[\"z_comp_err\"] = delta_analysis_df[\"z\"] - (\n",
    "    delta_analysis_df[\"z_computed\"] / delta_analysis_df[\"z_scale\"]\n",
    ")\n",
    "delta_analysis_df[\"y_pool_err\"] = delta_analysis_df[\"y\"] - (\n",
    "    delta_analysis_df[\"y_pooled\"] / delta_analysis_df[\"y_scale\"]\n",
    ")\n",
    "delta_analysis_df[\"y_comp_err\"] = delta_analysis_df[\"y\"] - (\n",
    "    delta_analysis_df[\"y_computed\"] / delta_analysis_df[\"y_scale\"]\n",
    ")\n",
    "delta_analysis_df[\"x_pool_err\"] = delta_analysis_df[\"x\"] - (\n",
    "    delta_analysis_df[\"x_pooled\"] / delta_analysis_df[\"x_scale\"]\n",
    ")\n",
    "delta_analysis_df[\"x_comp_err\"] = delta_analysis_df[\"x\"] - (\n",
    "    delta_analysis_df[\"x_computed\"] / delta_analysis_df[\"x_scale\"]\n",
    ")"
   ]
  },
  {
   "cell_type": "code",
   "execution_count": null,
   "id": "dfc5ef14",
   "metadata": {},
   "outputs": [],
   "source": [
    "delta_analysis_df.describe()"
   ]
  },
  {
   "cell_type": "code",
   "execution_count": null,
   "id": "6d485bab",
   "metadata": {},
   "outputs": [],
   "source": [
    "delta_analysis_df[\"z_scale\"].unique()"
   ]
  },
  {
   "cell_type": "code",
   "execution_count": null,
   "id": "e9210d9f",
   "metadata": {},
   "outputs": [],
   "source": [
    "train_df.axis0.unique()"
   ]
  },
  {
   "cell_type": "code",
   "execution_count": null,
   "id": "13d98e68",
   "metadata": {},
   "outputs": [],
   "source": [
    "delta_analysis_df[\"y_scale\"].unique()"
   ]
  },
  {
   "cell_type": "code",
   "execution_count": null,
   "id": "8636b7f3",
   "metadata": {},
   "outputs": [],
   "source": [
    "plt.scatter(\n",
    "    delta_analysis_df[\"y_scale\"]\n",
    "    + delta_analysis_df[\"z_scale\"]\n",
    "    + delta_analysis_df[\"x_scale\"],\n",
    "    delta_analysis_df[\"y_pool_err\"],\n",
    ")"
   ]
  },
  {
   "cell_type": "code",
   "execution_count": null,
   "id": "0c57eda5",
   "metadata": {},
   "outputs": [],
   "source": [
    "train_df[\"volumes\"] = train_df.axis0 * train_df.axis1 * train_df.axis2"
   ]
  },
  {
   "cell_type": "code",
   "execution_count": null,
   "id": "bcc5a83c",
   "metadata": {},
   "outputs": [],
   "source": [
    "delta_analysis_df = delta_analysis_df.merge(\n",
    "    train_df[[\"id\", \"volumes\"]], how=\"inner\", on=\"id\"\n",
    ")"
   ]
  }
 ],
 "metadata": {
  "kernelspec": {
   "display_name": "byu_project",
   "language": "python",
   "name": "python3"
  },
  "language_info": {
   "codemirror_mode": {
    "name": "ipython",
    "version": 3
   },
   "file_extension": ".py",
   "mimetype": "text/x-python",
   "name": "python",
   "nbconvert_exporter": "python",
   "pygments_lexer": "ipython3",
   "version": "3.10.16"
  }
 },
 "nbformat": 4,
 "nbformat_minor": 5
}

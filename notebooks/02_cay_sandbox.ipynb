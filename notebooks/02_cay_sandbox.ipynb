{
 "cells": [
  {
   "cell_type": "code",
   "execution_count": null,
   "id": "27186ab2",
   "metadata": {},
   "outputs": [],
   "source": []
  }
 ],
 "metadata": {
  "language_info": {
   "name": "python"
  }
 },
 "nbformat": 4,
 "nbformat_minor": 5
}
